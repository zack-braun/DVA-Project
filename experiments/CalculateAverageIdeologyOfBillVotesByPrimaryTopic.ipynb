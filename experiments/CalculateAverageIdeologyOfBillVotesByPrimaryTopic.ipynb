{
 "cells": [
  {
   "cell_type": "markdown",
   "metadata": {},
   "source": [
    "# Determine Average Ideology of Legislator by Bill Topic"
   ]
  },
  {
   "cell_type": "markdown",
   "metadata": {},
   "source": [
    "This notebook combines the legislator information with the bill information to get the average ideology of legislators by bill topic. First we'll import the packages needed to perform the calculations and then we will walk through the calculation steps."
   ]
  },
  {
   "cell_type": "code",
   "execution_count": 1,
   "metadata": {},
   "outputs": [],
   "source": [
    "import pandas as pd\n",
    "import requests\n",
    "import numpy as np"
   ]
  },
  {
   "cell_type": "markdown",
   "metadata": {},
   "source": [
    "## Prepare Data"
   ]
  },
  {
   "cell_type": "markdown",
   "metadata": {},
   "source": [
    "The first step is to read in VoteView's list of bills. We restrict this to the 113th congress onwards to ensure that the average ideology calculations by bill topic reflect more current view points for each legislator. "
   ]
  },
  {
   "cell_type": "code",
   "execution_count": 2,
   "metadata": {},
   "outputs": [
    {
     "name": "stdout",
     "output_type": "stream",
     "text": [
      "There are 2219 bills to request from the ProPublica API\n"
     ]
    }
   ],
   "source": [
    "\n",
    "# Note we use the meta data on Bills from VoteView so that we can loop through them to get data from ProPublica\n",
    "voteviewBillInfo = \"https://voteview.com/static/data/out/rollcalls/HSall_rollcalls.csv\"\n",
    "voteviewBillDF = pd.read_csv(voteviewBillInfo, low_memory = False)\n",
    "voteviewBillDF = voteviewBillDF.loc[(voteviewBillDF.congress >= 113) & (voteviewBillDF.bill_number.notna()), :]\n",
    "voteviewBillDF['congress_bill_number'] = voteviewBillDF.apply(lambda x: (str(x.congress), x.bill_number), axis = 1)\n",
    "voteviewBillDF.drop(['nominate_log_likelihood', 'session', 'clerk_rollnumber'], axis = 1, inplace =True)\n",
    "# We get list of unique bill numbers\n",
    "bills = voteviewBillDF.congress_bill_number.unique()\n",
    "print('There are', len(bills), 'bills to request from the ProPublica API')\n"
   ]
  },
  {
   "cell_type": "markdown",
   "metadata": {},
   "source": [
    "Next we need to link the VoteView bill Meta data with the actual bill Votes. With a list of unique bill numbers from the 113th congress onward, it is possible to loop through the ProPublica API to request the bill information. The form of the API request is: https://api.propublica.org/congress/v1/{congress}/bills/{bill-id}.json. Note that some bill requests will fail to return information because they are for things like nominations the ProPublica tracks sepearately. These items are all outside of the realm of the topics of interest for our app, so they are excluded from our data."
   ]
  },
  {
   "cell_type": "code",
   "execution_count": null,
   "metadata": {},
   "outputs": [],
   "source": [
    "apiKey =  #\"INSERT API KEY HERE\"\n",
    "baseUrl = \"https://api.propublica.org/congress/v1/\"\n",
    "\n",
    "# Make request for each congress and chamber combination using list comprehension\n",
    "# Remember that each bill in the list bills is a tuple where bill[0] is congressional session and bill[1] is bill number\n",
    "apiRequestListBillz = [requests.get(baseUrl+bill[0]+\"/bills/\"+bill[1]+\".json\", headers = {'X-API-Key': apiKey}) \n",
    "                      for bill in bills]\n",
    "        \n",
    "billz = []\n",
    "failed_bill_requests = []\n",
    "for i,resp in enumerate(apiRequestListBillz):\n",
    "    if (resp.status_code == requests.codes.ok):\n",
    "        respJSON = resp.json()\n",
    "        if 'results' in respJSON:\n",
    "            respJSON = respJSON['results'][0]\n",
    "            billz.append(respJSON)\n",
    "        else: failed_bill_requests.append(i) #print('Results not returned for request', i)\n",
    "    else:\n",
    "        print('Request', i, 'failed')\n",
    "        failed_bill_requests.append(i)\n",
    "        \n",
    "# We aren't currently interested in the failed requests since they are all off topic (things like nominations)      \n",
    "#failed_bill_requests = bills[failed_bill_requests]\n",
    "#failed_bill_df = pd.DataFrame(failed_bill_requests)\n",
    "#failed_bill_df.to_csv(\"OUTPUT LOCATION / FILENAME.CSV HERE\")"
   ]
  },
  {
   "cell_type": "markdown",
   "metadata": {},
   "source": [
    "Now we just need to retain the information to recognize the bill and its primary subject. Later we'll combine this with the VoteView information on bill ideology and the individual votes."
   ]
  },
  {
   "cell_type": "code",
   "execution_count": null,
   "metadata": {},
   "outputs": [],
   "source": [
    "ppBillDF = pd.DataFrame(billz)\n",
    "ppBillDF = ppBillDF[['congress', 'number', 'bill', 'bill_id', 'bill_slug', 'bill_type', 'primary_subject']]\n",
    "ppBillDF['bill_slug'] = ppBillDF['bill_slug'].str.upper()\n",
    "ppBillDF['congress'] = ppBillDF['congress'].astype('int64')"
   ]
  },
  {
   "cell_type": "markdown",
   "metadata": {},
   "source": [
    "Now we can grab member votes from VoteView for ease of tabulating the results."
   ]
  },
  {
   "cell_type": "code",
   "execution_count": null,
   "metadata": {},
   "outputs": [],
   "source": [
    "voteviewVotes = \"https://voteview.com/static/data/out/votes/HSall_votes.csv\"\n",
    "voteviewVoteDF = pd.read_csv(voteviewVotes)\n",
    "voteviewVoteDF = voteviewVoteDF.loc[voteviewVoteDF.congress >= 113, :]\n",
    "voteviewVoteDF['VotedYes'] = np.where(voteviewVoteDF.cast_code.isin([1,2,3]),  1, 0)"
   ]
  },
  {
   "cell_type": "markdown",
   "metadata": {},
   "source": [
    "The final info we need before we summarize the information is to join in the bioguide_ids from VoteView so that we can join back to the ProPublica legislator data. Note that the bioguide_id corresponds to the id from ProPublica's data and represents a legislators ID for their official congresional bio."
   ]
  },
  {
   "cell_type": "code",
   "execution_count": null,
   "metadata": {},
   "outputs": [],
   "source": [
    "voteviewMembers = \"https://voteview.com/static/data/out/members/HSall_members.csv\"\n",
    "voteviewMemberDF = pd.read_csv(voteviewMembers)\n",
    "voteviewMemberDF = voteviewMemberDF.loc[voteviewMemberDF.congress >= 113, ['congress', 'chamber', 'icpsr', 'bioguide_id']]"
   ]
  },
  {
   "cell_type": "markdown",
   "metadata": {},
   "source": [
    "Below we'll join all the bill information together."
   ]
  },
  {
   "cell_type": "code",
   "execution_count": null,
   "metadata": {},
   "outputs": [],
   "source": [
    "allVoteInfoDF = pd.merge(voteviewVoteDF, \n",
    "                         voteviewBillDF[['congress', 'chamber','rollnumber', 'nominate_mid_1', 'bill_number']], \n",
    "                         how = 'inner', left_on = ['congress', 'chamber','rollnumber'], \n",
    "                         right_on = ['congress', 'chamber','rollnumber'])\n",
    "\n",
    "allVoteInfoDF = pd.merge(allVoteInfoDF, ppBillDF[['congress', 'bill_slug', 'primary_subject']],\n",
    "                        how = 'left', left_on = ['congress', 'bill_number'], right_on= ['congress', 'bill_slug'])\n",
    "\n",
    "print(allVoteInfoDF.shape)\n",
    "\n",
    "allVoteInfoDF = pd.merge(allVoteInfoDF, voteviewMemberDF, how = 'left', \n",
    "                         left_on = ['congress', 'chamber','icpsr'], right_on = ['congress', 'chamber','icpsr'])\n",
    "\n",
    "display(allVoteInfoDF.sample(7))"
   ]
  },
  {
   "cell_type": "markdown",
   "metadata": {},
   "source": [
    "## Calculate Average Ideology by Bill Topic"
   ]
  },
  {
   "cell_type": "markdown",
   "metadata": {},
   "source": [
    "This part calculates the average ideology of bills that a legislator voted \"yes\" on by topic."
   ]
  },
  {
   "cell_type": "code",
   "execution_count": null,
   "metadata": {
    "scrolled": true
   },
   "outputs": [],
   "source": [
    "allVoteInfoDF['CondensedSubject'] = allVoteInfoDF['primary_subject']\n",
    "allVoteInfoDF.loc[allVoteInfoDF.primary_subject == 'Agriculture and Food', 'CondensedSubject'] = 'AgFood'\n",
    "allVoteInfoDF.loc[allVoteInfoDF.primary_subject == 'Health', 'CondensedSubject'] = 'Health'\n",
    "allVoteInfoDF.loc[allVoteInfoDF.primary_subject == 'Labor and Employment', 'CondensedSubject'] = 'LaborEmployment'\n",
    "\n",
    "allVoteInfoDF.loc[allVoteInfoDF.primary_subject.isin(['International Affairs',\n",
    "                                                   'International Affairs',\n",
    "                                                   'Foreign Trade and International Finance']), \n",
    "                  'CondensedSubject'] = 'DefenseGlobal'\n",
    "\n",
    "allVoteInfoDF.loc[allVoteInfoDF.primary_subject.isin(['Energy', 'Transportation and Public Works']), \n",
    "                  'CondensedSubject'] = 'EnergyTransport'\n",
    "\n",
    "allVoteInfoDF.loc[allVoteInfoDF.primary_subject.isin(['Finance and Financial Sector',\n",
    "                                                    'Social Welfare',\n",
    "                                                   'Housing and Community Development']), \n",
    "                  'CondensedSubject'] = 'Finance'\n",
    "\n",
    "\n",
    "legislatorBillTopicIdeology = allVoteInfoDF.loc[allVoteInfoDF.VotedYes == 1,\n",
    "                                               :].groupby(['bioguide_id', 'CondensedSubject'],\n",
    "                                                    as_index=False)['nominate_mid_1'].mean()\n",
    "\n",
    "legislatorBillTopicIdeology = legislatorBillTopicIdeology.loc[legislatorBillTopicIdeology.CondensedSubject.isin(['AgFood',\n",
    "                                                                                                                'Health',\n",
    "                                                                                                                'LaborEmployment',\n",
    "                                                                                                                'DefenseGlobal',\n",
    "                                                                                                                'EnergyTransport',\n",
    "                                                                                                                'Finance']), :]\n",
    "legislatorBillTopicIdeology=legislatorBillTopicIdeology.pivot(index='bioguide_id', \n",
    "                                                              columns='CondensedSubject', \n",
    "                                                              values='nominate_mid_1').reset_index()\n",
    "\n",
    "legislatorBillTopicIdeology.fillna(0, inplace= True)\n",
    "\n",
    "display(legislatorBillTopicIdeology.sample(7))\n",
    "\n",
    "outputPath = \"INSERT OUTPUT PATH / FILENAME.CSV HERE\"\n",
    "legislatorBillTopicIdeology.to_csv(outputPath)\n",
    "\n",
    "print('Calculations complete and file is output to .CSV')"
   ]
  }
 ],
 "metadata": {
  "kernelspec": {
   "display_name": "Python 3",
   "language": "python",
   "name": "python3"
  },
  "language_info": {
   "codemirror_mode": {
    "name": "ipython",
    "version": 3
   },
   "file_extension": ".py",
   "mimetype": "text/x-python",
   "name": "python",
   "nbconvert_exporter": "python",
   "pygments_lexer": "ipython3",
   "version": "3.7.2"
  }
 },
 "nbformat": 4,
 "nbformat_minor": 2
}
