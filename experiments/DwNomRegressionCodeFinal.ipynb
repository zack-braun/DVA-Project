{
 "cells": [
  {
   "cell_type": "code",
   "execution_count": 1,
   "metadata": {},
   "outputs": [],
   "source": [
    "import warnings\n",
    "import pandas as pd\n",
    "import numpy as np\n",
    "from matplotlib import pyplot as plt\n",
    "import seaborn as sns\n",
    "from sklearn.datasets import load_boston\n",
    "from sklearn.pipeline import Pipeline\n",
    "from sklearn.compose import ColumnTransformer\n",
    "from sklearn.preprocessing import StandardScaler, OneHotEncoder\n",
    "from sklearn.model_selection import GridSearchCV, KFold, RepeatedKFold\n",
    "from sklearn.metrics import mean_squared_error, make_scorer\n",
    "from sklearn.svm import SVR\n",
    "from sklearn.ensemble import RandomForestRegressor\n",
    "from sklearn.linear_model import ElasticNet\n",
    "from sklearn.ensemble import GradientBoostingRegressor\n",
    "from mlxtend.regressor import StackingRegressor\n",
    "\n",
    "warnings.filterwarnings('ignore') # 'once' shows warning just first time it is triggered\n",
    "# We just use filterwarnings('ignore') to stop warnings from being sown for SKLEARN changes to defaults in upcoming versions\n",
    "\n",
    "# We'll use boston housing data as an example\n",
    "#bh = load_boston()\n",
    "#target = bh.target\n",
    "#x_data = bh.data\n",
    "\n",
    "# We will evaluate the models using mean squared error\n",
    "# Since Python's Sklearn requires scorer to have greater is better property\n",
    "# We'll use the negated mean squared error as our scorer using make_scorer function\n",
    "scorer = make_scorer(mean_squared_error, greater_is_better = False)\n",
    "\n",
    "#Where applicable we'll use the same random seed\n",
    "rand_state = 748932\n",
    "\n",
    "# We'll pass an instance or repeatedstratified Kfold to the GridSearchCV\n",
    "cv_strategy = KFold(n_splits = 10, shuffle = True, random_state = rand_state)\n",
    "#cv_strategy = RepeatedKFold(n_splits=10, n_repeats=3, random_state=rand_state)"
   ]
  },
  {
   "cell_type": "markdown",
   "metadata": {},
   "source": [
    "## Preparing the Dataset "
   ]
  },
  {
   "cell_type": "markdown",
   "metadata": {},
   "source": [
    "Before we can build a model to predict the DW-Nominate scores for junionr legislators, we must first prepare our dataset. This section reads in the legislator and campaign finance data, join them, and cleans the data for downstream use in a machine learning model. "
   ]
  },
  {
   "cell_type": "code",
   "execution_count": 6,
   "metadata": {},
   "outputs": [
    {
     "data": {
      "text/html": [
       "<div>\n",
       "<style scoped>\n",
       "    .dataframe tbody tr th:only-of-type {\n",
       "        vertical-align: middle;\n",
       "    }\n",
       "\n",
       "    .dataframe tbody tr th {\n",
       "        vertical-align: top;\n",
       "    }\n",
       "\n",
       "    .dataframe thead th {\n",
       "        text-align: right;\n",
       "    }\n",
       "</style>\n",
       "<table border=\"1\" class=\"dataframe\">\n",
       "  <thead>\n",
       "    <tr style=\"text-align: right;\">\n",
       "      <th></th>\n",
       "      <th>dw_nominate</th>\n",
       "      <th>chamber</th>\n",
       "      <th>gender</th>\n",
       "      <th>missed_votes_pct</th>\n",
       "      <th>party</th>\n",
       "      <th>seniority</th>\n",
       "      <th>state</th>\n",
       "      <th>title</th>\n",
       "      <th>votes_with_party_pct</th>\n",
       "      <th>BirthYear</th>\n",
       "      <th>...</th>\n",
       "      <th>C90017708</th>\n",
       "      <th>C00647701</th>\n",
       "      <th>C00655696</th>\n",
       "      <th>C00473371</th>\n",
       "      <th>C00399865</th>\n",
       "      <th>C00676635</th>\n",
       "      <th>C00545616</th>\n",
       "      <th>C00031054</th>\n",
       "      <th>C00195065</th>\n",
       "      <th>C00679688</th>\n",
       "    </tr>\n",
       "  </thead>\n",
       "  <tbody>\n",
       "    <tr>\n",
       "      <th>0</th>\n",
       "      <td>0.508</td>\n",
       "      <td>House</td>\n",
       "      <td>M</td>\n",
       "      <td>1.49</td>\n",
       "      <td>R</td>\n",
       "      <td>4</td>\n",
       "      <td>LA</td>\n",
       "      <td>Representative</td>\n",
       "      <td>97.48</td>\n",
       "      <td>1954</td>\n",
       "      <td>...</td>\n",
       "      <td>0.0</td>\n",
       "      <td>0.0</td>\n",
       "      <td>0.0</td>\n",
       "      <td>0.0</td>\n",
       "      <td>0.0</td>\n",
       "      <td>0.0</td>\n",
       "      <td>0.0</td>\n",
       "      <td>0.0</td>\n",
       "      <td>0.0</td>\n",
       "      <td>0.0</td>\n",
       "    </tr>\n",
       "    <tr>\n",
       "      <th>126</th>\n",
       "      <td>0.549</td>\n",
       "      <td>House</td>\n",
       "      <td>M</td>\n",
       "      <td>1.01</td>\n",
       "      <td>R</td>\n",
       "      <td>2</td>\n",
       "      <td>KS</td>\n",
       "      <td>Representative</td>\n",
       "      <td>98.26</td>\n",
       "      <td>1956</td>\n",
       "      <td>...</td>\n",
       "      <td>0.0</td>\n",
       "      <td>0.0</td>\n",
       "      <td>0.0</td>\n",
       "      <td>0.0</td>\n",
       "      <td>0.0</td>\n",
       "      <td>0.0</td>\n",
       "      <td>0.0</td>\n",
       "      <td>0.0</td>\n",
       "      <td>0.0</td>\n",
       "      <td>0.0</td>\n",
       "    </tr>\n",
       "    <tr>\n",
       "      <th>384</th>\n",
       "      <td>0.425</td>\n",
       "      <td>House</td>\n",
       "      <td>M</td>\n",
       "      <td>6.68</td>\n",
       "      <td>R</td>\n",
       "      <td>32</td>\n",
       "      <td>TX</td>\n",
       "      <td>Representative</td>\n",
       "      <td>98.76</td>\n",
       "      <td>1947</td>\n",
       "      <td>...</td>\n",
       "      <td>0.0</td>\n",
       "      <td>0.0</td>\n",
       "      <td>0.0</td>\n",
       "      <td>0.0</td>\n",
       "      <td>0.0</td>\n",
       "      <td>0.0</td>\n",
       "      <td>0.0</td>\n",
       "      <td>0.0</td>\n",
       "      <td>0.0</td>\n",
       "      <td>0.0</td>\n",
       "    </tr>\n",
       "    <tr>\n",
       "      <th>5</th>\n",
       "      <td>0.648</td>\n",
       "      <td>House</td>\n",
       "      <td>M</td>\n",
       "      <td>0.08</td>\n",
       "      <td>R</td>\n",
       "      <td>8</td>\n",
       "      <td>MI</td>\n",
       "      <td>Representative</td>\n",
       "      <td>66.09</td>\n",
       "      <td>1980</td>\n",
       "      <td>...</td>\n",
       "      <td>0.0</td>\n",
       "      <td>0.0</td>\n",
       "      <td>0.0</td>\n",
       "      <td>0.0</td>\n",
       "      <td>0.0</td>\n",
       "      <td>0.0</td>\n",
       "      <td>0.0</td>\n",
       "      <td>0.0</td>\n",
       "      <td>0.0</td>\n",
       "      <td>0.0</td>\n",
       "    </tr>\n",
       "    <tr>\n",
       "      <th>249</th>\n",
       "      <td>-0.449</td>\n",
       "      <td>House</td>\n",
       "      <td>M</td>\n",
       "      <td>7.84</td>\n",
       "      <td>D</td>\n",
       "      <td>6</td>\n",
       "      <td>CA</td>\n",
       "      <td>Representative</td>\n",
       "      <td>94.60</td>\n",
       "      <td>1941</td>\n",
       "      <td>...</td>\n",
       "      <td>0.0</td>\n",
       "      <td>0.0</td>\n",
       "      <td>0.0</td>\n",
       "      <td>0.0</td>\n",
       "      <td>0.0</td>\n",
       "      <td>0.0</td>\n",
       "      <td>0.0</td>\n",
       "      <td>0.0</td>\n",
       "      <td>0.0</td>\n",
       "      <td>0.0</td>\n",
       "    </tr>\n",
       "  </tbody>\n",
       "</table>\n",
       "<p>5 rows × 4336 columns</p>\n",
       "</div>"
      ],
      "text/plain": [
       "     dw_nominate chamber gender  missed_votes_pct party  seniority state  \\\n",
       "0          0.508   House      M              1.49     R          4    LA   \n",
       "126        0.549   House      M              1.01     R          2    KS   \n",
       "384        0.425   House      M              6.68     R         32    TX   \n",
       "5          0.648   House      M              0.08     R          8    MI   \n",
       "249       -0.449   House      M              7.84     D          6    CA   \n",
       "\n",
       "              title  votes_with_party_pct BirthYear  ...  C90017708  \\\n",
       "0    Representative                 97.48      1954  ...        0.0   \n",
       "126  Representative                 98.26      1956  ...        0.0   \n",
       "384  Representative                 98.76      1947  ...        0.0   \n",
       "5    Representative                 66.09      1980  ...        0.0   \n",
       "249  Representative                 94.60      1941  ...        0.0   \n",
       "\n",
       "     C00647701  C00655696  C00473371  C00399865  C00676635  C00545616  \\\n",
       "0          0.0        0.0        0.0        0.0        0.0        0.0   \n",
       "126        0.0        0.0        0.0        0.0        0.0        0.0   \n",
       "384        0.0        0.0        0.0        0.0        0.0        0.0   \n",
       "5          0.0        0.0        0.0        0.0        0.0        0.0   \n",
       "249        0.0        0.0        0.0        0.0        0.0        0.0   \n",
       "\n",
       "     C00031054  C00195065  C00679688  \n",
       "0          0.0        0.0        0.0  \n",
       "126        0.0        0.0        0.0  \n",
       "384        0.0        0.0        0.0  \n",
       "5          0.0        0.0        0.0  \n",
       "249        0.0        0.0        0.0  \n",
       "\n",
       "[5 rows x 4336 columns]"
      ]
     },
     "metadata": {},
     "output_type": "display_data"
    },
    {
     "name": "stdout",
     "output_type": "stream",
     "text": [
      "The combined data has 547 rows and 4336 columns\n"
     ]
    }
   ],
   "source": [
    "# This reads the user data from Github\n",
    "donationDataLocation = \"https://raw.githubusercontent.com/zack-braun/DVA-Project/master/experiments/Donations%20to%20Cand%20by%20Committee.csv\"\n",
    "campaignDF = pd.read_csv(donationDataLocation)\n",
    "campaignDF.rename({'Candidate_ID':'opensecrets'} , axis = 1, inplace = True)\n",
    "campaignDF.fillna(0, inplace = True)\n",
    "#display(campaignDF.sample(5))\n",
    "#print('The campaign data has', campaignDF.shape[0], 'rows and', campaignDF.shape[1], 'columns')\n",
    "\n",
    "# This reads in the legislator data\n",
    "legislatorData = \"https://raw.githubusercontent.com/zack-braun/DVA-Project/master/experiments/combinedData.csv\"\n",
    "legislatorDF = pd.read_csv(legislatorData)\n",
    "legislatorDF['BirthYear'] = legislatorDF.date_of_birth.str.split(\"-\", expand = True)[0]\n",
    "dropColz = ['index', 'govtrack_id', 'congress', 'district', 'first_name', 'last_name','last_updated', 'date_of_birth',\n",
    "            'short_title', 'missed_votes', 'middle_name', 'next_election', 'total_votes', 'total_present', 'at_large',\n",
    "            'office', 'in_office', 'Finance', 'suffix', 'leadership_role', 'senate_class', 'state_rank', \n",
    "            'bioguide', 'ideaology']\n",
    "legislatorDF.drop(dropColz , axis = 1, inplace = True)\n",
    "#display(legislatorDF.sample(5))\n",
    "#print('The legislator data has', legislatorDF.shape[0], 'rows and', legislatorDF.shape[1], 'columns')\n",
    "\n",
    "\n",
    "combinedData = pd.merge(legislatorDF, campaignDF, on='opensecrets' , how=\"inner\" )\n",
    "combinedData.drop(['opensecrets'], axis = 1, inplace = True)\n",
    "display(combinedData.sample(5))\n",
    "print('The combined data has', combinedData.shape[0], 'rows and', combinedData.shape[1], 'columns')\n",
    "\n",
    "target = combinedData['dw_nominate']\n",
    "x_data = combinedData.copy()\n",
    "x_data.drop(['dw_nominate'], axis = 1, inplace = True)"
   ]
  },
  {
   "cell_type": "markdown",
   "metadata": {},
   "source": [
    "## Building a Prediction Pipeline"
   ]
  },
  {
   "cell_type": "markdown",
   "metadata": {},
   "source": [
    "DW-Nominate scores are continuous over their relevant range. Therefore, we will treat this as a regression problem and use several suitable machine learning approaches. As is common in regression problems, we will use cross-validated mean squared error to judge model performance.\n",
    "\n",
    "Several of the models require that the input data is standardized. For these models we will use sklearn's prediction pipeline capabilities to ensure the standardization occurs as part of our cross-validated model tuning. For the remaining models we will use the un-standardized features in our model.In that case, we will use a different prediction pipeline."
   ]
  },
  {
   "cell_type": "code",
   "execution_count": 7,
   "metadata": {},
   "outputs": [],
   "source": [
    "numeric_features = list(x_data._get_numeric_data().columns)\n",
    "categorical_features = list(x_data.columns.difference(numeric_features))\n",
    "\n",
    "# We create seperate Pipelines for these columns\n",
    "numeric_transformer = Pipeline(steps = [('scaler', StandardScaler())])\n",
    "categorical_transformer = Pipeline(steps = [('onehot', OneHotEncoder(handle_unknown='ignore'))])\n",
    "\n",
    "preprocessor = ColumnTransformer( transformers = [('num', numeric_transformer, numeric_features),\n",
    "                                                 ('cat', categorical_transformer, categorical_features)])\n",
    "\n",
    "# The final step is append the regression model to the prediction pipeline\n",
    "# This will be handled in each section below"
   ]
  },
  {
   "cell_type": "markdown",
   "metadata": {},
   "source": [
    "### Support Vector Regression (SVR) "
   ]
  },
  {
   "cell_type": "markdown",
   "metadata": {},
   "source": [
    "Support Vector Regression provides a alternative to regular regression. Rather than minimizing squared error as in standard OLS style regression, it is looking to minimize the error while allowing the fitted model to be less sensitive to errrors within a margin (typically referred to as epsilon). As discussed in our final report, past research has used SVR to predict DW-Nominate scores as a function of campaign finance data. Those methods involved the use of a large number of features indicating the amount of donations from different donors. We use similar methods to include the donations from different donors in our implementation of SVR, as well as the other models. We augment these features by also including demographic information about the candidate such as the gender, party, and other attributes.\n",
    "\n",
    "Since SVR depends on distance calculations (just like support vector classification), the input features are all standardized during the model cross-validation pipeline."
   ]
  },
  {
   "cell_type": "code",
   "execution_count": 8,
   "metadata": {},
   "outputs": [
    {
     "name": "stdout",
     "output_type": "stream",
     "text": [
      "The best parameters searched are: {'clf__C': 0.1, 'clf__epsilon': 0.3, 'clf__kernel': 'linear'}\n"
     ]
    }
   ],
   "source": [
    "predPipeSVR = Pipeline(steps = [('preprocessor', preprocessor), ('clf', SVR(gamma = 'scale'))])\n",
    "\n",
    "# We need to tune the parameters c and kernel options:{'linear', 'poly', 'rbf', 'sigmoid'}\n",
    "parameters = {'clf__kernel':('linear', 'rbf', 'poly'), \n",
    "              'clf__C':[0.01, 0.1, 1, 10, 100], \n",
    "              'clf__epsilon':[0.1, 0.3, 0.5, 0.9]}\n",
    "\n",
    "clf = GridSearchCV(predPipeSVR, parameters, scoring = scorer, cv=cv_strategy, n_jobs = -1)\n",
    "clf.fit(x_data, target)\n",
    "\n",
    "resultsSVR = clf.cv_results_\n",
    "\n",
    "print('The best parameters searched are:', clf.best_params_)\n",
    "# The best parameters searched are: {'clf__C': 0.1, 'clf__epsilon': 0.3, 'clf__kernel': 'linear'}"
   ]
  },
  {
   "cell_type": "markdown",
   "metadata": {},
   "source": [
    "### Elastic Net Regresssion"
   ]
  },
  {
   "cell_type": "markdown",
   "metadata": {},
   "source": [
    "Elastic Net regression uses a weighted average of the Lasso (L1) and Ridge (L2) penalties for regularization as shown in the formula below. \n",
    "\n",
    "$$\\hat{\\beta} = argmin\\left( \\left(y-X\\beta\\right)^2 + \\lambda*\\left(\\alpha*\\sum{\\left|\\beta\\right|} + \\left(1-\\alpha\\right)*\\sum{\\beta^2} \\right) \\right)$$\n",
    "\n",
    "Both penalties trade bias in the coefficient estimates, which are shrunk toward zero, for reduced model variance, which can improve predictive accuracy. \n",
    "\n",
    "When $\\alpha=1$ the penalty reduces to the usual Lasso (L1) penalty in terms of the absolute value of the coefficients. This has the effect that some coefficients are zeroed out or removed from the model, resulting in implicit feature selection. On the other hand $\\alpha=0$ results in the Ridge (L2) penalty. Since the L2 penalty is a function of the squared coefficients, the individual coefficients are shrunk toward zero but not typically zeroed out. \n",
    "\n",
    "The code below tunes the optimal values for alpha (which sklearn call l1_ratio) and lambda (which sklearn confusingly calls alpha).\n",
    "\n",
    "Since the penalties are a function of the coefficients and these in turn are affected by the scale of the data, each regressor is standardized prior to its inclusion in the model as was the case for the SVR model.\n",
    "\n"
   ]
  },
  {
   "cell_type": "code",
   "execution_count": 9,
   "metadata": {},
   "outputs": [
    {
     "name": "stdout",
     "output_type": "stream",
     "text": [
      "The best parameters searched are: {'clf__alpha': 0.1, 'clf__l1_ratio': 1}\n"
     ]
    }
   ],
   "source": [
    "predPipeENET = Pipeline(steps = [('preprocessor', preprocessor), ('clf', ElasticNet(max_iter = 1500, \n",
    "                                                                                 random_state = rand_state))])\n",
    "\n",
    "# Note: that sklearn's alpha penalty is the same as lambda in R's glmnet package\n",
    "# thus, alpha controls strength of regularization\n",
    "# Note: sklearn's l1_ratio is same as alpha in glmnet and controls mixing of l1 and l2 penalties\n",
    "# l1_ratio = 1 runs straight Lasso, while l1_ratio = 0 runs straight ridge regression\n",
    "\n",
    "parameters = {'clf__alpha':[0.1, 0.5, 1, 3, 5, 10, 100], 'clf__l1_ratio':[0,0.1, 0.25, 0.5, 0.75, 0.9, 1]}\n",
    "clf = GridSearchCV(predPipeENET, parameters, scoring = scorer, cv=cv_strategy, n_jobs = -1)\n",
    "clf.fit(x_data, target)\n",
    "\n",
    "resultsENET = clf.cv_results_\n",
    "\n",
    "print('The best parameters searched are:', clf.best_params_)\n",
    "#The best parameters searched are: {'clf__alpha': 0.1, 'clf__l1_ratio': 1}"
   ]
  },
  {
   "cell_type": "markdown",
   "metadata": {},
   "source": [
    "### Random Forest Regressor "
   ]
  },
  {
   "cell_type": "markdown",
   "metadata": {},
   "source": [
    "We can also fit a random forest regressor. This works similar to a random forest classification model, except the mean in each leaf is used for prediction.\n",
    "\n",
    "The code below tunes the maximum number of features to consider for use in making a split, as well as the maximum depth of each tree.\n",
    "\n",
    "Since the random forest model does not use distance in its optimization or penalties that are a function of the coefficients, it is not necessary to standardize the input features prior to fitting the model. However, we choose to apply the same preprocesser function the Random Forest model as was used to scale the other models."
   ]
  },
  {
   "cell_type": "code",
   "execution_count": 11,
   "metadata": {},
   "outputs": [
    {
     "name": "stdout",
     "output_type": "stream",
     "text": [
      "The best parameters searched are: {'clf__max_depth': 30, 'clf__max_features': 500}\n"
     ]
    }
   ],
   "source": [
    "predPipeRF = Pipeline(steps = [('preprocessor', preprocessor), \n",
    "                               ('clf', RandomForestRegressor(n_estimators = 750, random_state = rand_state) )])\n",
    "\n",
    "parameters = {'clf__max_features':[5, 15, 25, 50, 100, 200, 300, 500], 'clf__max_depth':[5, 10, 15, 20, 30, 50, None]}\n",
    "rfclf = GridSearchCV(predPipeRF, parameters, scoring = scorer, cv=cv_strategy, n_jobs = -1)\n",
    "rfclf.fit(x_data, target)\n",
    "\n",
    "resultsRFReg = rfclf.cv_results_\n",
    "\n",
    "print('The best parameters searched are:', rfclf.best_params_)\n",
    "#The best parameters searched are: {'clf__max_depth': 30, 'clf__max_features': 500}"
   ]
  },
  {
   "cell_type": "markdown",
   "metadata": {},
   "source": [
    "### Gradient Boosted Regression "
   ]
  },
  {
   "cell_type": "markdown",
   "metadata": {},
   "source": [
    "We will also try a boosted tree model. Gradient tree boosted regression fits successive regression models to residuals of the previous stage. The prediction function is essentially updated at each iteration as a weighted average of the previous predictive function (combination of trees previous trees) and the current iteration. The weighted combination is controlled by the learning rate. A smaller learning rate indicates that the new tree is given less weight when updating the aggregate prediction. There is a natural trade-off between the learning rate and number of estimators (n_estimators). Smaller learning rates, typically will combine with a larger number of iterations. This analysis uses a learning rate of 0.1 and iteratively fits 200 trees. "
   ]
  },
  {
   "cell_type": "code",
   "execution_count": 12,
   "metadata": {},
   "outputs": [
    {
     "name": "stdout",
     "output_type": "stream",
     "text": [
      "      Iter       Train Loss      OOB Improve   Remaining Time \n",
      "         1           0.0949           0.0227           19.46s\n",
      "         2           0.0828           0.0129           19.08s\n",
      "         3           0.0629           0.0142           19.20s\n",
      "         4           0.0497           0.0117           19.04s\n",
      "         5           0.0412           0.0090           18.68s\n",
      "         6           0.0330           0.0074           18.76s\n",
      "         7           0.0273           0.0062           18.68s\n",
      "         8           0.0237           0.0035           18.70s\n",
      "         9           0.0188           0.0045           18.63s\n",
      "        10           0.0151           0.0036           18.51s\n",
      "        20           0.0021           0.0004           17.29s\n",
      "        30           0.0003           0.0000           16.16s\n",
      "        40           0.0000           0.0000           14.95s\n",
      "        50           0.0000           0.0000           13.61s\n",
      "        60           0.0000           0.0000           12.13s\n",
      "        70           0.0000           0.0000           10.54s\n",
      "        80           0.0000           0.0000            8.88s\n",
      "        90           0.0000          -0.0000            7.30s\n",
      "       100           0.0000           0.0000            5.99s\n",
      "       200           0.0000          -0.0000            0.00s\n",
      "The best parameters searched are: {'clf__learning_rate': 0.1, 'clf__loss': 'huber', 'clf__max_depth': 50, 'clf__max_features': 'sqrt', 'clf__subsample': 0.75}\n"
     ]
    }
   ],
   "source": [
    "predPipeGBR = Pipeline(steps = [('preprocessor', preprocessor),\n",
    "                                ('clf', GradientBoostingRegressor(n_estimators = 200, random_state = rand_state,\n",
    "                                                                 verbose = 1) )])\n",
    "\n",
    "# We will optimize n_estimators, learning_rate, subsample, max_depth,\n",
    "parameters = {  'clf__loss':['huber'], 'clf__learning_rate':[0.1],\n",
    "                'clf__max_depth':[5, 10, 20, 30, 50], 'clf__subsample':[0.75, 0.85, 0.95],\n",
    "                 'clf__max_features':['sqrt']}\n",
    "\n",
    "clf = GridSearchCV(predPipeGBR, parameters, scoring = scorer, cv=cv_strategy, n_jobs = -1)\n",
    "clf.fit(x_data, target)\n",
    "\n",
    "resultsGBR = clf.cv_results_\n",
    "\n",
    "print('The best parameters searched are:', clf.best_params_)\n",
    "\n",
    "#The best parameters searched are: {'clf__learning_rate': 0.1, 'clf__loss': 'huber', \n",
    "#'clf__max_depth': 50, 'clf__max_features': 'sqrt', 'clf__subsample': 0.75}"
   ]
  },
  {
   "cell_type": "markdown",
   "metadata": {},
   "source": [
    "## Evaluating Model Performance"
   ]
  },
  {
   "cell_type": "markdown",
   "metadata": {},
   "source": [
    "After tuning each of the regression models we use the cross-validation results to compare model performance. \n",
    "\n",
    "-  Step 1: Extract RMSE from each cross-validation fold for tuned model\n",
    "-  Step 2: Visualize differences in model performance\n",
    "\n",
    "If we had done repeated cross-validation or used a larger number of folds it would have been possible to perform pairwise T-tests to determine if the best performing model was statistically significantly better than the other models. We leave this excercise for future research."
   ]
  },
  {
   "cell_type": "code",
   "execution_count": 13,
   "metadata": {},
   "outputs": [
    {
     "name": "stdout",
     "output_type": "stream",
     "text": [
      "SVR RMSE: [0.22722715 0.23689728 0.24111844 0.26870878 0.25864968 0.28628547\n",
      " 0.34622652 0.22345364 0.29902676 0.26998553]\n",
      "Elastic Net RMSE: [0.2097773  0.22116155 0.29113264 0.23694606 0.27368186 0.26302499\n",
      " 0.25709182 0.25839708 0.34762817 0.21630336]\n",
      "Random Forest RMSE: [0.09237444 0.09605247 0.1029708  0.10201619 0.1107296  0.11343094\n",
      " 0.0945502  0.08629318 0.08738389 0.11303231]\n",
      "Gradient Boosted Regression Tree RMSE: [0.11573918 0.1060807  0.14908582 0.13139263 0.15899624 0.1356035\n",
      " 0.10396571 0.11506252 0.1098349  0.14594783]\n"
     ]
    },
    {
     "data": {
      "image/png": "[encoded data removed]",
      "text/plain": [
       "<Figure size 792x648 with 1 Axes>"
      ]
     },
     "metadata": {
      "needs_background": "light"
     },
     "output_type": "display_data"
    }
   ],
   "source": [
    "splitz = ['split0_test_score', 'split1_test_score', 'split2_test_score', 'split3_test_score', 'split4_test_score', \n",
    "          'split5_test_score', 'split6_test_score', 'split7_test_score', 'split8_test_score', 'split9_test_score']\n",
    "\n",
    "rmse = {}\n",
    "# Get RMSE for SVR Model\n",
    "minSVRScoreIdx = np.argmax(resultsSVR['mean_test_score'])\n",
    "rmse['SVR'] = np.array([ np.sqrt(-resultsSVR[split][minSVRScoreIdx]) for split in splitz ])\n",
    "print('SVR RMSE:', rmse['SVR'])\n",
    "\n",
    "# Get RMSE for Elastic Net Model\n",
    "minENETScoreIdx = np.argmax(resultsENET['mean_test_score'])\n",
    "rmse['ENET'] = np.array([ np.sqrt(-resultsENET[split][minENETScoreIdx]) for split in splitz ])\n",
    "print('Elastic Net RMSE:', rmse['ENET'])\n",
    "\n",
    "# Get RMSE for Random Forest Regression Model\n",
    "minRFRegScoreIdx = np.argmax(resultsRFReg['mean_test_score'])\n",
    "rmse['RF'] = np.array([ np.sqrt(-resultsRFReg[split][minRFRegScoreIdx]) for split in splitz ])\n",
    "print('Random Forest RMSE:', rmse['RF'])\n",
    "\n",
    "# Get RMSE for Gradient Boosted Regression Tree\n",
    "minGBRScoreIdx = np.argmax(resultsGBR['mean_test_score'])\n",
    "rmse['GBR'] = np.array([ np.sqrt(-resultsGBR[split][minGBRScoreIdx]) for split in splitz ])\n",
    "print('Gradient Boosted Regression Tree RMSE:', rmse['GBR'])\n",
    "\n",
    "\n",
    "\n",
    "rmse_df = pd.DataFrame(rmse)\n",
    "rmse_df['Fold'] = rmse_df.index + 1\n",
    "rmse_df_long = pd.melt(rmse_df, id_vars = ['Fold'], var_name = 'Model', value_name = 'RMSE')\n",
    "#f, ax = plt.subplots(figsize=(11, 9))\n",
    "f, ax = plt.subplots(figsize=(11, 9))\n",
    "ax = sns.boxplot( x = 'Model', y = 'RMSE', data = rmse_df_long)\n",
    "fig = ax.get_figure()\n",
    "fig.savefig(\"C:/Users/rkuhn/Documents/Courses/DataandVisualAnalytics/ProjectpredJuniorLegisDW.png\")"
   ]
  },
  {
   "cell_type": "markdown",
   "metadata": {},
   "source": [
    "Based on this example code we can conclude that the Elastic Net model had the worst out of sample performance and is probably not the best candidate for use. The Support Vector Regression did slightly better. Past literature had used Support Vector Regression to predict legislator DW-Nominate scores using campaign finance data; however, the Gradient Boosted Regression Tree and Random Forest models both outperformed this model. These are both algorithms that could be useful to other researchers working on this topic in the future. The Random Forest model ultimately had the best average predictive performance and a narrower RMSE variance across the out-of-sample folds.\n",
    "\n",
    "Given its quick time to fit and predictive performance, the Random Forest Regression seems like a good candidate to use."
   ]
  },
  {
   "cell_type": "code",
   "execution_count": 14,
   "metadata": {},
   "outputs": [
    {
     "data": {
      "text/plain": [
       "<matplotlib.axes._subplots.AxesSubplot at 0x1801eb56c50>"
      ]
     },
     "metadata": {},
     "output_type": "display_data"
    },
    {
     "data": {
      "image/png": "[encoded data removed]",
      "text/plain": [
       "<Figure size 792x648 with 2 Axes>"
      ]
     },
     "metadata": {
      "needs_background": "light"
     },
     "output_type": "display_data"
    }
   ],
   "source": [
    "\n",
    "corr = rmse_df[['ENET', 'RF', 'SVR', 'GBR']].corr()\n",
    "\n",
    "mask = np.zeros_like(corr, dtype=np.bool)\n",
    "mask[np.triu_indices_from(mask)] = True\n",
    "cmap = sns.diverging_palette(240, 10, n=9, as_cmap = True)\n",
    "f, ax = plt.subplots(figsize=(11, 9))\n",
    "\n",
    "\n",
    "display(sns.heatmap(corr, cmap=cmap, mask = mask, vmax=1, center=0, square=True, \n",
    "                    linewidths=.5, annot=True, cbar_kws={\"shrink\": .5}))"
   ]
  },
  {
   "cell_type": "markdown",
   "metadata": {},
   "source": [
    "Given that the models are relatively uncorrelated (with the exception of the support vector regression and elastic net), we can probably improve accuracy by averaging our predictions. It has been shown that Elastic Net and Support Vector Regression are related. Since most of the models errors aren't heavily correlated, we choose to try a stacked model to aggregate the predictions and see if it improves the predictive performance."
   ]
  },
  {
   "cell_type": "code",
   "execution_count": 15,
   "metadata": {},
   "outputs": [
    {
     "name": "stdout",
     "output_type": "stream",
     "text": [
      "Stacked Models: [0.10830503 0.10745868 0.1331932  0.12167784 0.14406623 0.12218015\n",
      " 0.10035428 0.11322675 0.10609487 0.14087484]\n"
     ]
    }
   ],
   "source": [
    "warnings.filterwarnings('ignore') # 'once' shows warning just first time it is triggered\n",
    "\n",
    "predPipeRF = Pipeline(steps = [('preprocessor', preprocessor), \n",
    "                                ('clf', RandomForestRegressor(n_estimators= 1000, max_features = 500, \n",
    "                                                              max_depth = 30, random_state = rand_state))])\n",
    "\n",
    "predPipeENET = Pipeline(steps = [('preprocessor', preprocessor), \n",
    "                                 ('clf', ElasticNet(max_iter = 1500, alpha = 0.1, \n",
    "                                                    l1_ratio = 1, random_state = rand_state))])\n",
    "\n",
    "predPipeGBR = Pipeline(steps = [('preprocessor', preprocessor),\n",
    "                                ('clf', GradientBoostingRegressor(n_estimators = 200, random_state = rand_state,\n",
    "                                                                 learning_rate = 0.1, max_features = 'sqrt', \n",
    "                                                                 subsample = 0.75, max_depth = 50, loss = 'huber') )])\n",
    "\n",
    "predPipeSVR = Pipeline(steps = [('preprocessor', preprocessor), \n",
    "                                ('clf', SVR(gamma = 'scale', C = 0.1, epsilon = 0.3, kernel = 'linear'))])\n",
    "\n",
    "rfStack = RandomForestRegressor(n_estimators = 500, random_state = rand_state, max_features = 'auto')\n",
    "\n",
    "regressors = [predPipeRF, predPipeENET, predPipeGBR, predPipeSVR]\n",
    "stregr = StackingRegressor(regressors=regressors, \n",
    "                           meta_regressor=rfStack)\n",
    "\n",
    "parameters = {'meta-randomforestregressor__max_depth':[1, 3, 5, None]}\n",
    "\n",
    "\n",
    "\n",
    "grid = GridSearchCV(estimator=stregr, param_grid=parameters, scoring = scorer, cv=cv_strategy)\n",
    "grid.fit(x_data, target)\n",
    "\n",
    "resultsStack = grid.cv_results_\n",
    "\n",
    "minStackScoreIdx = np.argmax(resultsStack['mean_test_score'])\n",
    "rmse['Stack'] = np.array([ np.sqrt(-resultsStack[split][minStackScoreIdx]) for split in splitz ])\n",
    "print('Stacked Models:', rmse['Stack'])"
   ]
  },
  {
   "cell_type": "markdown",
   "metadata": {},
   "source": [
    "As we can see in the chart below, after stacking the models there is a slight improvement in root mean square error relative to the Gradient Boosted Regression Tree model; however, we aren't able to outperform the Random Forest model. Therefore, we elect to use the results of this modeling approach."
   ]
  },
  {
   "cell_type": "code",
   "execution_count": 16,
   "metadata": {},
   "outputs": [
    {
     "data": {
      "image/png": "[encoded data removed]",
      "text/plain": [
       "<Figure size 792x648 with 1 Axes>"
      ]
     },
     "metadata": {
      "needs_background": "light"
     },
     "output_type": "display_data"
    }
   ],
   "source": [
    "\n",
    "rmse_df = pd.DataFrame(rmse)\n",
    "rmse_df['Fold'] = rmse_df.index + 1\n",
    "rmse_df_long = pd.melt(rmse_df, id_vars = ['Fold'], var_name = 'Model', value_name = 'RMSE')\n",
    "#f, ax = plt.subplots(figsize=(11, 9))\n",
    "f, ax = plt.subplots(figsize=(11, 9))\n",
    "ax = sns.boxplot( x = 'Model', y = 'RMSE', data = rmse_df_long)\n",
    "fig = ax.get_figure()\n",
    "fig.savefig(\"C:/Users/rkuhn/Documents/Courses/DataandVisualAnalytics/Project/predJuniorLegisDWStackedFinal.png\")"
   ]
  },
  {
   "cell_type": "code",
   "execution_count": 17,
   "metadata": {},
   "outputs": [
    {
     "data": {
      "text/html": [
       "<div>\n",
       "<style scoped>\n",
       "    .dataframe tbody tr th:only-of-type {\n",
       "        vertical-align: middle;\n",
       "    }\n",
       "\n",
       "    .dataframe tbody tr th {\n",
       "        vertical-align: top;\n",
       "    }\n",
       "\n",
       "    .dataframe thead th {\n",
       "        text-align: right;\n",
       "    }\n",
       "</style>\n",
       "<table border=\"1\" class=\"dataframe\">\n",
       "  <thead>\n",
       "    <tr style=\"text-align: right;\">\n",
       "      <th></th>\n",
       "      <th>chamber</th>\n",
       "      <th>gender</th>\n",
       "      <th>missed_votes_pct</th>\n",
       "      <th>party</th>\n",
       "      <th>seniority</th>\n",
       "      <th>state</th>\n",
       "      <th>title</th>\n",
       "      <th>votes_with_party_pct</th>\n",
       "      <th>BirthYear</th>\n",
       "      <th>C00173393</th>\n",
       "      <th>...</th>\n",
       "      <th>C90017708</th>\n",
       "      <th>C00647701</th>\n",
       "      <th>C00655696</th>\n",
       "      <th>C00473371</th>\n",
       "      <th>C00399865</th>\n",
       "      <th>C00676635</th>\n",
       "      <th>C00545616</th>\n",
       "      <th>C00031054</th>\n",
       "      <th>C00195065</th>\n",
       "      <th>C00679688</th>\n",
       "    </tr>\n",
       "  </thead>\n",
       "  <tbody>\n",
       "    <tr>\n",
       "      <th>0</th>\n",
       "      <td>House</td>\n",
       "      <td>M</td>\n",
       "      <td>0.86</td>\n",
       "      <td>R</td>\n",
       "      <td>2</td>\n",
       "      <td>OH</td>\n",
       "      <td>Representative</td>\n",
       "      <td>100.00</td>\n",
       "      <td>1962</td>\n",
       "      <td>0.0</td>\n",
       "      <td>...</td>\n",
       "      <td>0.0</td>\n",
       "      <td>0.0</td>\n",
       "      <td>0.0</td>\n",
       "      <td>0.0</td>\n",
       "      <td>0.0</td>\n",
       "      <td>0.0</td>\n",
       "      <td>0.0</td>\n",
       "      <td>0.0</td>\n",
       "      <td>0.0</td>\n",
       "      <td>0.0</td>\n",
       "    </tr>\n",
       "    <tr>\n",
       "      <th>1</th>\n",
       "      <td>House</td>\n",
       "      <td>F</td>\n",
       "      <td>0.00</td>\n",
       "      <td>D</td>\n",
       "      <td>16</td>\n",
       "      <td>GU</td>\n",
       "      <td>Delegate</td>\n",
       "      <td>0.00</td>\n",
       "      <td>1933</td>\n",
       "      <td>0.0</td>\n",
       "      <td>...</td>\n",
       "      <td>0.0</td>\n",
       "      <td>0.0</td>\n",
       "      <td>0.0</td>\n",
       "      <td>0.0</td>\n",
       "      <td>0.0</td>\n",
       "      <td>0.0</td>\n",
       "      <td>0.0</td>\n",
       "      <td>0.0</td>\n",
       "      <td>0.0</td>\n",
       "      <td>0.0</td>\n",
       "    </tr>\n",
       "    <tr>\n",
       "      <th>2</th>\n",
       "      <td>House</td>\n",
       "      <td>M</td>\n",
       "      <td>0.00</td>\n",
       "      <td>R</td>\n",
       "      <td>2</td>\n",
       "      <td>TX</td>\n",
       "      <td>Representative</td>\n",
       "      <td>95.16</td>\n",
       "      <td>1975</td>\n",
       "      <td>0.0</td>\n",
       "      <td>...</td>\n",
       "      <td>0.0</td>\n",
       "      <td>0.0</td>\n",
       "      <td>0.0</td>\n",
       "      <td>0.0</td>\n",
       "      <td>0.0</td>\n",
       "      <td>0.0</td>\n",
       "      <td>0.0</td>\n",
       "      <td>0.0</td>\n",
       "      <td>0.0</td>\n",
       "      <td>0.0</td>\n",
       "    </tr>\n",
       "    <tr>\n",
       "      <th>3</th>\n",
       "      <td>House</td>\n",
       "      <td>F</td>\n",
       "      <td>0.00</td>\n",
       "      <td>R</td>\n",
       "      <td>2</td>\n",
       "      <td>PR</td>\n",
       "      <td>Resident Commissioner</td>\n",
       "      <td>0.00</td>\n",
       "      <td>1976</td>\n",
       "      <td>0.0</td>\n",
       "      <td>...</td>\n",
       "      <td>0.0</td>\n",
       "      <td>0.0</td>\n",
       "      <td>0.0</td>\n",
       "      <td>0.0</td>\n",
       "      <td>0.0</td>\n",
       "      <td>0.0</td>\n",
       "      <td>0.0</td>\n",
       "      <td>0.0</td>\n",
       "      <td>0.0</td>\n",
       "      <td>0.0</td>\n",
       "    </tr>\n",
       "    <tr>\n",
       "      <th>4</th>\n",
       "      <td>House</td>\n",
       "      <td>M</td>\n",
       "      <td>0.00</td>\n",
       "      <td>R</td>\n",
       "      <td>2</td>\n",
       "      <td>OK</td>\n",
       "      <td>Representative</td>\n",
       "      <td>97.62</td>\n",
       "      <td>1961</td>\n",
       "      <td>0.0</td>\n",
       "      <td>...</td>\n",
       "      <td>0.0</td>\n",
       "      <td>0.0</td>\n",
       "      <td>0.0</td>\n",
       "      <td>0.0</td>\n",
       "      <td>0.0</td>\n",
       "      <td>0.0</td>\n",
       "      <td>0.0</td>\n",
       "      <td>0.0</td>\n",
       "      <td>0.0</td>\n",
       "      <td>0.0</td>\n",
       "    </tr>\n",
       "  </tbody>\n",
       "</table>\n",
       "<p>5 rows × 4335 columns</p>\n",
       "</div>"
      ],
      "text/plain": [
       "  chamber gender  missed_votes_pct party  seniority state  \\\n",
       "0   House      M              0.86     R          2    OH   \n",
       "1   House      F              0.00     D         16    GU   \n",
       "2   House      M              0.00     R          2    TX   \n",
       "3   House      F              0.00     R          2    PR   \n",
       "4   House      M              0.00     R          2    OK   \n",
       "\n",
       "                   title  votes_with_party_pct  BirthYear  C00173393  ...  \\\n",
       "0         Representative                100.00       1962        0.0  ...   \n",
       "1               Delegate                  0.00       1933        0.0  ...   \n",
       "2         Representative                 95.16       1975        0.0  ...   \n",
       "3  Resident Commissioner                  0.00       1976        0.0  ...   \n",
       "4         Representative                 97.62       1961        0.0  ...   \n",
       "\n",
       "   C90017708  C00647701  C00655696  C00473371  C00399865  C00676635  \\\n",
       "0        0.0        0.0        0.0        0.0        0.0        0.0   \n",
       "1        0.0        0.0        0.0        0.0        0.0        0.0   \n",
       "2        0.0        0.0        0.0        0.0        0.0        0.0   \n",
       "3        0.0        0.0        0.0        0.0        0.0        0.0   \n",
       "4        0.0        0.0        0.0        0.0        0.0        0.0   \n",
       "\n",
       "   C00545616  C00031054  C00195065  C00679688  \n",
       "0        0.0        0.0        0.0        0.0  \n",
       "1        0.0        0.0        0.0        0.0  \n",
       "2        0.0        0.0        0.0        0.0  \n",
       "3        0.0        0.0        0.0        0.0  \n",
       "4        0.0        0.0        0.0        0.0  \n",
       "\n",
       "[5 rows x 4335 columns]"
      ]
     },
     "metadata": {},
     "output_type": "display_data"
    }
   ],
   "source": [
    "#missingDWNominateFile = \"C:/Users/rkuhn/Documents/Courses/DataandVisualAnalytics/Project/missingDW.csv\"\n",
    "missingDWNominateFile = \"https://raw.githubusercontent.com/zack-braun/DVA-Project/master/experiments/missingDW.csv\"\n",
    "missingDW = pd.read_csv(missingDWNominateFile)\n",
    "missingDW.drop(['Unnamed: 0', 'dw_nominate'], axis = 1, inplace = True )\n",
    "\n",
    "missingDW = pd.merge(missingDW, campaignDF, on='opensecrets' , how=\"left\" )\n",
    "\n",
    "missingDW.drop(['opensecrets', 'govtrack_id'], axis = 1, inplace = True)\n",
    "missingDW = missingDW.fillna(0, axis = 1)\n",
    "display(missingDW.head())\n"
   ]
  },
  {
   "cell_type": "code",
   "execution_count": 18,
   "metadata": {},
   "outputs": [
    {
     "data": {
      "text/plain": [
       "array([ 0.43571434, -0.34941749,  0.61175969,  0.47391191,  0.5309464 ,\n",
       "       -0.33869272, -0.438044  , -0.37518259,  0.48750696, -0.37593478,\n",
       "       -0.33284457, -0.31910814,  0.48089045])"
      ]
     },
     "metadata": {},
     "output_type": "display_data"
    }
   ],
   "source": [
    "# We make our predictions with the RF model\n",
    "predictedDW = rfclf.predict(missingDW)\n",
    "\n",
    "\n",
    "\n",
    "display(predictedDW)\n",
    "DWNom = pd.Series(predictedDW)\n",
    "missingDW['dw_nominate'] = DWNom\n",
    "missingDW.to_csv('C:/Users/rkuhn/Documents/Courses/DataandVisualAnalytics/Project/missingDWpredictionsFinal.csv')"
   ]
  }
 ],
 "metadata": {
  "kernelspec": {
   "display_name": "Python 3",
   "language": "python",
   "name": "python3"
  },
  "language_info": {
   "codemirror_mode": {
    "name": "ipython",
    "version": 3
   },
   "file_extension": ".py",
   "mimetype": "text/x-python",
   "name": "python",
   "nbconvert_exporter": "python",
   "pygments_lexer": "ipython3",
   "version": "3.7.2"
  }
 },
 "nbformat": 4,
 "nbformat_minor": 2
}
