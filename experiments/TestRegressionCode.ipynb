{
 "cells": [
  {
   "cell_type": "code",
   "execution_count": 1,
   "metadata": {},
   "outputs": [],
   "source": [
    "import pandas as pd\n",
    "import numpy as np\n",
    "import matplotlib.pyplot as plt\n",
    "import seaborn as sns\n",
    "from sklearn.datasets import load_boston\n",
    "from sklearn.pipeline import Pipeline\n",
    "from sklearn.preprocessing import StandardScaler\n",
    "from sklearn.model_selection import GridSearchCV, KFold\n",
    "from sklearn.metrics import mean_squared_error, make_scorer\n",
    "from sklearn.svm import SVR\n",
    "from sklearn.ensemble import RandomForestRegressor\n",
    "from sklearn.linear_model import ElasticNet\n",
    "from sklearn.ensemble import GradientBoostingRegressor\n",
    "\n",
    "# We'll use boston housing data as an example\n",
    "bh = load_boston()\n",
    "target = bh.target\n",
    "x_data = bh.data\n",
    "\n",
    "# We will evaluate the models using mean squared error\n",
    "# Since Python's Sklearn requires scorer to have greater is better property\n",
    "# We'll use the negated mean squared error as our scorer using make_scorer function\n",
    "scorer = make_scorer(mean_squared_error, greater_is_better = False)\n",
    "\n",
    "#Where applicable we'll use the same random seed\n",
    "rand_state = 748932\n",
    "\n",
    "# We'll pass an instance or repeatedstratified Kfold to the GridSearchCV\n",
    "cv_strategy = KFold(n_splits = 5, shuffle = True, random_state = rand_state)"
   ]
  },
  {
   "cell_type": "markdown",
   "metadata": {},
   "source": [
    "## Building a Prediction Pipeline"
   ]
  },
  {
   "cell_type": "markdown",
   "metadata": {},
   "source": [
    "Several of the models require that the input data is standardized. For these models we will use sklearn's prediction pipeline capabilities to ensure the standardization occurs as part of our cross-validated model tuning. For the remaining models we will use the un-standardized features in our model."
   ]
  },
  {
   "cell_type": "markdown",
   "metadata": {},
   "source": [
    "### Support Vector Regression "
   ]
  },
  {
   "cell_type": "markdown",
   "metadata": {},
   "source": [
    "Support Vector Regression provides a alternative to regular regression. Rather than minimizing squared error as in standard OLS style regression, it is looking to minimize the error while allowing the fitted model to be less sensitive to errrors within a margin (typically referred to as epsilon).  \n",
    "\n",
    "Since SVR depends on distance calculations (just like support vector classification), the input features are all standardized during the model cross-validation pipeline."
   ]
  },
  {
   "cell_type": "code",
   "execution_count": 2,
   "metadata": {},
   "outputs": [
    {
     "name": "stdout",
     "output_type": "stream",
     "text": [
      "The best parameters searched are: {'clf__C': 100, 'clf__epsilon': 0.9, 'clf__kernel': 'rbf'}\n"
     ]
    }
   ],
   "source": [
    "predPipeSVR = Pipeline(steps = [('scale', StandardScaler()), ('clf', SVR())])\n",
    "\n",
    "# We need to tune the parameters c and kernel options:{'linear', 'poly', 'rbf', 'sigmoid'}\n",
    "parameters = {'clf__kernel':('linear', 'rbf', 'poly', 'sigmoid'), \n",
    "              'clf__C':[0.001, 0.01, 0.1, 1, 10, 100], \n",
    "              'clf__epsilon':[0.1, 0.3, 0.5, 0.9]}\n",
    "\n",
    "clf = GridSearchCV(predPipeSVR, parameters, scoring = scorer, cv=cv_strategy, n_jobs = -1)\n",
    "clf.fit(x_data, target)\n",
    "\n",
    "resultsSVR = clf.cv_results_\n",
    "\n",
    "print('The best parameters searched are:', clf.best_params_)\n"
   ]
  },
  {
   "cell_type": "markdown",
   "metadata": {},
   "source": [
    "### Elastic Net Regresssion"
   ]
  },
  {
   "cell_type": "markdown",
   "metadata": {},
   "source": [
    "Elastic Net regression uses a weighted average of the Lasso (L1) and Ridge (L2) penalties for regularization as shown in the formula below. \n",
    "\n",
    "$$\\hat{\\beta} = argmin\\left( \\left(y-X\\beta\\right)^2 + \\lambda*\\left(\\alpha*\\sum{\\left|\\beta\\right|} + \\left(1-\\alpha\\right)*\\sum{\\beta^2} \\right) \\right)$$\n",
    "\n",
    "Both penalties trade bias in the coefficient estimates, which are shrunk toward zero, for reduced model variance, which can improve predictive accuracy. \n",
    "\n",
    "When $\\alpha=1$ the penalty reduces to the usual Lasso (L1) penalty in terms of the absolute value of the coefficients. This has the effect that some coefficients are zeroed out or removed from the model, resulting in implicit feature selection. On the other hand $\\alpha=0$ results in the Ridge (L2) penalty. Since the L2 penalty is a function of the squared coefficients, the individual coefficients are shrunk toward zero but not typically zeroed out. \n",
    "\n",
    "The code below tunes the optimal values for alpha (which sklearn call l1_ratio) and lambda (which sklearn confusingly calls alpha).\n",
    "\n",
    "Since the penalties are a function of the coefficients and these in turn are affected by the scale of the data, each regressor is standardized prior to its inclusion in the model.\n",
    "\n"
   ]
  },
  {
   "cell_type": "code",
   "execution_count": 15,
   "metadata": {},
   "outputs": [
    {
     "name": "stdout",
     "output_type": "stream",
     "text": [
      "The best parameters searched are: {'clf__alpha': 0.1, 'clf__l1_ratio': 0.5}\n"
     ]
    }
   ],
   "source": [
    "predPipeENET = Pipeline(steps = [('scale', StandardScaler()), ('clf', ElasticNet(max_iter = 1500, \n",
    "                                                                                 random_state = rand_state))])\n",
    "\n",
    "# Note: that sklearn's alpha penalty is the same as lambda in R's glmnet package\n",
    "# thus, alpha controls strength of regularization\n",
    "# Note: sklearn's l1_ratio is same as alpha in glmnet and controls mixing of l1 and l2 penalties\n",
    "# l1_ratio = 1 runs straight Lasso, while l1_ratio = 0 runs straight ridge regression\n",
    "\n",
    "parameters = {'clf__alpha':[0.1, 0.5, 1, 3, 5, 10, 100], 'clf__l1_ratio':[0,0.1, 0.25, 0.5, 0.75, 0.9, 1]}\n",
    "clf = GridSearchCV(predPipeENET, parameters, scoring = scorer, cv=cv_strategy, n_jobs = -1)\n",
    "clf.fit(x_data, target)\n",
    "\n",
    "resultsENET = clf.cv_results_\n",
    "\n",
    "print('The best parameters searched are:', clf.best_params_)\n"
   ]
  },
  {
   "cell_type": "markdown",
   "metadata": {},
   "source": [
    "### Random Forest Regressor "
   ]
  },
  {
   "cell_type": "markdown",
   "metadata": {},
   "source": [
    "We can also fit a random forest regressor. This works similar to a random forest classification model, except the mean in each leaf is used for prediction.\n",
    "\n",
    "The code below tunes the maximum number of features to consider for use in making a split, as well as the maximum depth of each tree.\n",
    "\n",
    "Since the random forest model does not use distance in its optimization or penalties that are a function of the coefficients, it is not necessary to standardize the input features prior to fitting the model."
   ]
  },
  {
   "cell_type": "code",
   "execution_count": 17,
   "metadata": {},
   "outputs": [
    {
     "name": "stdout",
     "output_type": "stream",
     "text": [
      "The best parameters searched are: {'clf__max_depth': 20, 'clf__max_features': 4}\n"
     ]
    }
   ],
   "source": [
    "predPipeRF = Pipeline(steps = [('clf', RandomForestRegressor(n_estimators = 500, random_state = rand_state) )])\n",
    "\n",
    "parameters = {'clf__max_features':[4, 8, 13], 'clf__max_depth':[1, 3, 5, 8, 10, 15, 20, None],}\n",
    "clf = GridSearchCV(predPipeRF, parameters, scoring = scorer, cv=cv_strategy, n_jobs = -1)\n",
    "clf.fit(x_data, target)\n",
    "\n",
    "resultsRFReg = clf.cv_results_\n",
    "\n",
    "print('The best parameters searched are:', clf.best_params_)\n"
   ]
  },
  {
   "cell_type": "markdown",
   "metadata": {},
   "source": [
    "### Gradient Boosted Regression "
   ]
  },
  {
   "cell_type": "markdown",
   "metadata": {},
   "source": [
    "Describe gradient boosted regression here."
   ]
  },
  {
   "cell_type": "code",
   "execution_count": 19,
   "metadata": {},
   "outputs": [
    {
     "name": "stdout",
     "output_type": "stream",
     "text": [
      "The best parameters searched are: {'clf__learning_rate': 0.1, 'clf__loss': 'huber', 'clf__max_depth': 5, 'clf__subsample': 0.7}\n"
     ]
    }
   ],
   "source": [
    "predPipeGBR = Pipeline(steps = [('clf', GradientBoostingRegressor(n_estimators = 500, random_state = rand_state) )])\n",
    "\n",
    "# We will optimize n_estimators, learning_rate, subsample, max_depth,\n",
    "parameters = {  'clf__loss':['ls', 'huber'], 'clf__learning_rate':[0.1, 0.01, 0.001],\n",
    "                'clf__max_depth':[3, 5, 10, 15, 20], 'clf__subsample':[0.7, 0.9, 1]}\n",
    "\n",
    "clf = GridSearchCV(predPipeGBR, parameters, scoring = scorer, cv=cv_strategy, n_jobs = -1)\n",
    "clf.fit(x_data, target)\n",
    "\n",
    "resultsGBR = clf.cv_results_\n",
    "\n",
    "print('The best parameters searched are:', clf.best_params_)\n"
   ]
  },
  {
   "cell_type": "markdown",
   "metadata": {},
   "source": [
    "## Evaluating Model Performance"
   ]
  },
  {
   "cell_type": "markdown",
   "metadata": {},
   "source": [
    "After tuning each of the regression models we use the cross-validation results to compare model performance. \n",
    "\n",
    "-  Step 1: Extract RMSE from each cross-validation fold for tuned model\n",
    "-  Step 2: Visualize differences in model performance\n",
    "\n",
    "If we had done repeated cross-validation or used a larger number of folds it would have been possible to perform pairwise T-tests to determine if the best performing model was statistically significantly better than the other models. We leave this excercise, as well as an exploration into the stacking of these individual models into a meta-learner for future research."
   ]
  },
  {
   "cell_type": "code",
   "execution_count": 50,
   "metadata": {},
   "outputs": [
    {
     "name": "stdout",
     "output_type": "stream",
     "text": [
      "SVR RMSE: {'SVR': array([3.0330988 , 3.78750282, 2.57828461, 2.69945879, 3.19234047])}\n",
      "Elastic Net RMSE: {'ENET': array([4.91888194, 5.77965736, 4.20295312, 4.82962149, 5.05548352])}\n",
      "Random Forest RMSE: {'RF': array([3.41525834, 4.50814332, 2.66594586, 2.99898208, 2.94253756])}\n",
      "Gradient Boosted Regression Tree RMSE: {'GBR': array([2.45416835, 3.53094017, 2.77131602, 2.97391631, 3.60606171])}\n"
     ]
    },
    {
     "data": {
      "image/png": "[encoded data removed]",
      "text/plain": [
       "<matplotlib.figure.Figure at 0x2d7707956a0>"
      ]
     },
     "metadata": {},
     "output_type": "display_data"
    }
   ],
   "source": [
    "splitz = ['split0_test_score', 'split1_test_score', 'split2_test_score', 'split3_test_score', 'split4_test_score']\n",
    "\n",
    "rmse = {}\n",
    "# Get RMSE for SVR Model\n",
    "minSVRScoreIdx = np.argmax(resultsSVR['mean_test_score'])\n",
    "rmse['SVR'] = np.array([ np.sqrt(-resultsSVR[split][minSVRScoreIdx]) for split in splitz ])\n",
    "print('SVR RMSE:', rmseSVR)\n",
    "\n",
    "# Get RMSE for Elastic Net Model\n",
    "minENETScoreIdx = np.argmax(resultsENET['mean_test_score'])\n",
    "rmse['ENET'] = np.array([ np.sqrt(-resultsENET[split][minENETScoreIdx]) for split in splitz ])\n",
    "print('Elastic Net RMSE:', rmseENET)\n",
    "\n",
    "# Get RMSE for Random Forest Regression Model\n",
    "minRFRegScoreIdx = np.argmax(resultsRFReg['mean_test_score'])\n",
    "rmse['RF'] = np.array([ np.sqrt(-resultsRFReg[split][minRFRegScoreIdx]) for split in splitz ])\n",
    "print('Random Forest RMSE:', rmseRFReg)\n",
    "\n",
    "# Get RMSE for Gradient Boosted Regression Tree\n",
    "minGBRScoreIdx = np.argmax(resultsGBR['mean_test_score'])\n",
    "rmse['GBR'] = np.array([ np.sqrt(-resultsGBR[split][minGBRScoreIdx]) for split in splitz ])\n",
    "print('Gradient Boosted Regression Tree RMSE:', rmseGBR)\n",
    "\n",
    "\n",
    "\n",
    "rmse_df = pd.DataFrame(rmse)\n",
    "rmse_df['Fold'] = rmse_df.index + 1\n",
    "rmse_df_long = pd.melt(rmse_df, id_vars = ['Fold'], var_name = 'Model', value_name = 'RMSE')\n",
    "f, ax = plt.subplots(figsize=(11, 9))\n",
    "ax = sns.boxplot( x = 'Model', y = 'RMSE', data = rmse_df_long)"
   ]
  },
  {
   "cell_type": "markdown",
   "metadata": {},
   "source": [
    "Based on this example code we can conclude that the Elastic Net model had the worst out of sample performance and is probably not the best candidate for use. The Support Vector Regression, Gradient Boosted Regression Tree and Random Forest models had similar mean test set error; however, the dispersion of their error across the folds varied. \n",
    "\n",
    "Given its quick time to fit, the Random Forest Regression seems like a good candidate to use."
   ]
  },
  {
   "cell_type": "code",
   "execution_count": 65,
   "metadata": {},
   "outputs": [
    {
     "data": {
      "text/plain": [
       "<matplotlib.axes._subplots.AxesSubplot at 0x2d772067048>"
      ]
     },
     "metadata": {},
     "output_type": "display_data"
    },
    {
     "data": {
      "image/png": "[encoded data removed]",
      "text/plain": [
       "<matplotlib.figure.Figure at 0x2d77206dd30>"
      ]
     },
     "metadata": {},
     "output_type": "display_data"
    }
   ],
   "source": [
    "\n",
    "corr = rmse_df[['ENET', 'GBR', 'RF', 'SVR']].corr()\n",
    "\n",
    "mask = np.zeros_like(corr, dtype=np.bool)\n",
    "mask[np.triu_indices_from(mask)] = True\n",
    "cmap = sns.diverging_palette(240, 10, n=9, as_cmap = True)\n",
    "f, ax = plt.subplots(figsize=(11, 9))\n",
    "\n",
    "\n",
    "display(sns.heatmap(corr, cmap=cmap, mask = mask, vmax=1, center=0, square=True, \n",
    "                    linewidths=.5, annot=True, cbar_kws={\"shrink\": .5}))"
   ]
  }
 ],
 "metadata": {
  "kernelspec": {
   "display_name": "Python 3",
   "language": "python",
   "name": "python3"
  },
  "language_info": {
   "codemirror_mode": {
    "name": "ipython",
    "version": 3
   },
   "file_extension": ".py",
   "mimetype": "text/x-python",
   "name": "python",
   "nbconvert_exporter": "python",
   "pygments_lexer": "ipython3",
   "version": "3.6.4"
  }
 },
 "nbformat": 4,
 "nbformat_minor": 2
}
